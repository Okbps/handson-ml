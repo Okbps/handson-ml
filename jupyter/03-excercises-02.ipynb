{
 "cells": [
  {
   "cell_type": "code",
   "execution_count": 45,
   "metadata": {},
   "outputs": [],
   "source": [
    "%matplotlib inline\n",
    "\n",
    "from sklearn.datasets import fetch_mldata\n",
    "from sklearn.linear_model import SGDClassifier\n",
    "from sklearn.model_selection import cross_val_score, cross_val_predict\n",
    "from sklearn.preprocessing import StandardScaler\n",
    "from sklearn.neighbors import KNeighborsClassifier\n",
    "from scipy.ndimage.interpolation import shift\n",
    "\n",
    "import matplotlib\n",
    "import matplotlib.pyplot as plt\n",
    "import numpy as np\n",
    "import warnings\n",
    "\n",
    "warnings.filterwarnings('ignore')"
   ]
  },
  {
   "cell_type": "markdown",
   "metadata": {},
   "source": [
    "Write a function that can shift an MNIST image in any direction (left, right, up, or\n",
    "down) by one pixel.5 Then, for each image in the training set, create four shifted\n",
    "copies (one per direction) and add them to the training set. Finally, train your best\n",
    "model on this expanded training set and measure its accuracy on the test set"
   ]
  },
  {
   "cell_type": "code",
   "execution_count": 46,
   "metadata": {},
   "outputs": [],
   "source": [
    "mnist = fetch_mldata('MNIST original')\n",
    "\n",
    "X, y = mnist['data'], mnist['target']\n",
    "\n",
    "X_train, X_test, y_train, y_test = X[:60000], X[60000:], y[:60000], y[60000:]\n",
    "\n",
    "shuffle_index = np.random.permutation(60000)\n",
    "X_train, y_train = X_train[shuffle_index], y_train[shuffle_index]\n",
    "\n",
    "y_train_5 = (y_train==5)\n",
    "y_test_5 = (y_test==5)"
   ]
  },
  {
   "cell_type": "code",
   "execution_count": 48,
   "metadata": {},
   "outputs": [],
   "source": [
    "def shift_image(onedarray):\n",
    "    shifted = list()\n",
    "    img = onedarray.reshape(28, 28)\n",
    "    shifts = ((1, 0), (-1, 0), (0, 1), (0, -1))\n",
    "    for sh in shifts:\n",
    "        shifted.append(shift(img, sh).flatten())\n",
    "        \n",
    "    return np.array(shifted)\n",
    "\n",
    "def show_images(fig, onedarrays):\n",
    "    width = len(onedarrays)\n",
    "    for i in range(width):\n",
    "        ax = fig.add_subplot(1, width, i+1)\n",
    "        ax.imshow(onedarrays[i].reshape(28, 28), cmap=matplotlib.cm.binary, interpolation='nearest')"
   ]
  },
  {
   "cell_type": "code",
   "execution_count": 52,
   "metadata": {},
   "outputs": [],
   "source": [
    "X_shifted = np.empty((0, 784))\n",
    "y_shifted = np.empty((0))\n",
    "\n",
    "for X_, y_ in zip(X_train, y_train):\n",
    "    onedarrays = shift_image(X_)\n",
    "    X_shifted = np.vstack((X_shifted, X_, onedarrays))\n",
    "    y_shifted = np.concatenate((y_shifted, 5*[y_]))\n",
    "    \n",
    "    if len(y_shifted)>2000:\n",
    "        break"
   ]
  },
  {
   "cell_type": "code",
   "execution_count": 53,
   "metadata": {},
   "outputs": [
    {
     "data": {
      "image/png": "[encoded data removed]",
      "text/plain": [
       "<Figure size 1296x216 with 10 Axes>"
      ]
     },
     "metadata": {},
     "output_type": "display_data"
    }
   ],
   "source": [
    "fig = plt.figure(figsize=(18, 3))\n",
    "show_images(fig, X_shifted[:10])\n",
    "plt.show()"
   ]
  },
  {
   "cell_type": "code",
   "execution_count": 55,
   "metadata": {},
   "outputs": [
    {
     "data": {
      "text/plain": [
       "array([0.76865672, 0.74251497, 0.83958021])"
      ]
     },
     "execution_count": 55,
     "metadata": {},
     "output_type": "execute_result"
    }
   ],
   "source": [
    "clf = KNeighborsClassifier()\n",
    "# knn_clf.fit(X_train, y_train_5)\n",
    "cross_val_score(clf, X_shifted, y_shifted, cv=3, scoring='accuracy')"
   ]
  }
 ],
 "metadata": {
  "kernelspec": {
   "display_name": "Python 3",
   "language": "python",
   "name": "python3"
  },
  "language_info": {
   "codemirror_mode": {
    "name": "ipython",
    "version": 3
   },
   "file_extension": ".py",
   "mimetype": "text/x-python",
   "name": "python",
   "nbconvert_exporter": "python",
   "pygments_lexer": "ipython3",
   "version": "3.6.6"
  }
 },
 "nbformat": 4,
 "nbformat_minor": 2
}
