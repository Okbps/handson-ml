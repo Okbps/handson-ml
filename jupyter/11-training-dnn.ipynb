{
 "cells": [
  {
   "cell_type": "code",
   "execution_count": 1,
   "metadata": {},
   "outputs": [],
   "source": [
    "%matplotlib inline\n",
    "\n",
    "from functools import partial\n",
    "from datetime import datetime\n",
    "\n",
    "import tensorflow as tf\n",
    "import numpy as np\n",
    "import matplotlib.pyplot as plt"
   ]
  },
  {
   "cell_type": "markdown",
   "metadata": {},
   "source": [
    "### Vanishing/Exploding Gradients\n",
    "Xavier and He initialization"
   ]
  },
  {
   "cell_type": "code",
   "execution_count": 3,
   "metadata": {},
   "outputs": [],
   "source": [
    "X = tf.placeholder(tf.float32, (None, 3), name=\"X\")\n",
    "n_hidden1 = 300\n",
    "\n",
    "he_init = tf.contrib.layers.variance_scaling_initializer()\n",
    "hidden1 = tf.layers.dense(X, n_hidden1, activation=tf.nn.relu, kernel_initializer=he_init, name=\"Hidden1\")"
   ]
  },
  {
   "cell_type": "markdown",
   "metadata": {},
   "source": [
    "Activation Functions"
   ]
  },
  {
   "cell_type": "code",
   "execution_count": 30,
   "metadata": {},
   "outputs": [
    {
     "data": {
      "image/png": "[encoded data removed]",
      "text/plain": [
       "<Figure size 720x288 with 1 Axes>"
      ]
     },
     "metadata": {
      "needs_background": "light"
     },
     "output_type": "display_data"
    }
   ],
   "source": [
    "alpha = 1\n",
    "lx = np.linspace(-4, 4, 100)\n",
    "ly = list(map(lambda x: alpha*np.exp(x)-alpha if x<0 else x, lx))\n",
    "fig, ax = plt.subplots()\n",
    "fig.set_size_inches(10, 4)\n",
    "# ax.xaxis.set_ticks_position('bottom')\n",
    "# ax.yaxis.set_ticks_position('left')\n",
    "\n",
    "ax.set_aspect('equal')\n",
    "ax.grid(True, which='both')\n",
    "\n",
    "# set the x-spine (see below for more info on `set_position`)\n",
    "ax.spines['left'].set_position('zero')\n",
    "\n",
    "# turn off the right spine/ticks\n",
    "ax.spines['right'].set_color('none')\n",
    "ax.yaxis.tick_left()\n",
    "\n",
    "# set the y-spine\n",
    "ax.spines['bottom'].set_position('zero')\n",
    "\n",
    "# turn off the top spine/ticks\n",
    "ax.spines['top'].set_color('none')\n",
    "ax.xaxis.tick_bottom()\n",
    "\n",
    "\n",
    "ax.plot(lx, ly)\n",
    "ax.set_title(\"ELU\")\n",
    "plt.show()"
   ]
  },
  {
   "cell_type": "code",
   "execution_count": null,
   "metadata": {},
   "outputs": [],
   "source": [
    "hidden1 = tf.layers.dense(X, n_hidden1, activation=tf.nn.elu, name)"
   ]
  },
  {
   "cell_type": "markdown",
   "metadata": {},
   "source": [
    "Batch Normalization"
   ]
  },
  {
   "cell_type": "code",
   "execution_count": 2,
   "metadata": {},
   "outputs": [],
   "source": [
    "(X_train, y_train), (X_test, y_test) = tf.keras.datasets.mnist.load_data()\n",
    "X_train = X_train.astype(np.float32).reshape(-1, 28*28) / 255.0\n",
    "X_test = X_test.astype(np.float32).reshape(-1, 28*28) / 255.0\n",
    "y_train = y_train.astype(np.int32)\n",
    "y_test = y_test.astype(np.int32)\n",
    "X_valid = X_test[:5000]\n",
    "y_valid = y_test[:5000]\n",
    "\n",
    "n_inputs = 28*28\n",
    "n_hidden1 = 300\n",
    "n_hidden2 = 100\n",
    "n_outputs = 10\n",
    "n_epochs = 10\n",
    "learning_rate = 0.01\n",
    "batch_size = 50\n",
    "threshold = 1.0\n",
    "n_batches = X_train.shape[0]//batch_size\n",
    "\n",
    "def shuffle_batch(X, y, batch_size):\n",
    "    rnd_idx = np.random.permutation(len(X))\n",
    "    n_batches = len(X) // batch_size\n",
    "    for batch_idx in np.array_split(rnd_idx, n_batches):\n",
    "        X_batch, y_batch = X[batch_idx], y[batch_idx]\n",
    "        yield (X_batch, y_batch)\n",
    "        \n",
    "def get_logdir():\n",
    "    now = datetime.utcnow().strftime(\"%Y%m%d%H%M%S\")\n",
    "    root_logdir = \"tf_logs\"\n",
    "    return \"{}/run-{}/\".format(root_logdir, now)"
   ]
  },
  {
   "cell_type": "code",
   "execution_count": 4,
   "metadata": {},
   "outputs": [
    {
     "name": "stdout",
     "output_type": "stream",
     "text": [
      "0 Test accuracy: 0.905\n",
      "1 Test accuracy: 0.9287\n",
      "2 Test accuracy: 0.937\n",
      "3 Test accuracy: 0.9434\n",
      "4 Test accuracy: 0.952\n",
      "5 Test accuracy: 0.954\n",
      "6 Test accuracy: 0.956\n",
      "7 Test accuracy: 0.959\n",
      "8 Test accuracy: 0.9585\n",
      "9 Test accuracy: 0.9614\n"
     ]
    }
   ],
   "source": [
    "tf.reset_default_graph()\n",
    "\n",
    "X = tf.placeholder(tf.float32, shape=(None, n_inputs), name=\"X\")\n",
    "y = tf.placeholder(tf.int32, shape=(None), name=\"y\")\n",
    "training = tf.placeholder_with_default(input=False, shape=(), name=\"training\")\n",
    "\n",
    "my_batch_norm_layer = partial(tf.layers.batch_normalization, training=training, momentum=0.9)\n",
    "\n",
    "hidden1 = tf.layers.dense(X, n_hidden1, name=\"hidden1\")\n",
    "bn1 = my_batch_norm_layer(hidden1)\n",
    "bn1_act = tf.nn.elu(bn1)\n",
    "\n",
    "hidden2 = tf.layers.dense(bn1_act, n_hidden2, name=\"hidden2\")\n",
    "bn2 = my_batch_norm_layer(hidden2)\n",
    "bn2_act = tf.nn.elu(bn2)\n",
    "\n",
    "logits_before_bn = tf.layers.dense(bn2_act, n_outputs, name=\"outputs\")\n",
    "logits = my_batch_norm_layer(logits_before_bn)\n",
    "\n",
    "\n",
    "with tf.name_scope(\"loss\"):\n",
    "    xentropy = tf.nn.sparse_softmax_cross_entropy_with_logits(labels=y, logits=logits)\n",
    "    loss = tf.reduce_mean(xentropy, name=\"loss\")\n",
    "    \n",
    "with tf.name_scope(\"train\"):\n",
    "    optimizer = tf.train.GradientDescentOptimizer(learning_rate)\n",
    "    grads_vars = optimizer.compute_gradients(loss)\n",
    "    capped_gvs = [(tf.clip_by_value(grad, -threshold, threshold), var) for grad, var in grads_vars]\n",
    "    training_op = optimizer.apply_gradients(capped_gvs)\n",
    "#     training_op = optimizer.minimize(loss)\n",
    "    \n",
    "with tf.name_scope(\"eval\"):\n",
    "    correct = tf.nn.in_top_k(logits, y, 1)\n",
    "    accuracy = tf.reduce_mean(tf.cast(correct, tf.float16))\n",
    "\n",
    "init = tf.global_variables_initializer()\n",
    "saver = tf.train.Saver()    \n",
    "extra_update_ops = tf.get_collection(tf.GraphKeys.UPDATE_OPS)\n",
    "\n",
    "with tf.Session() as sess:\n",
    "    init.run()\n",
    "    for epoch in range(n_epochs):\n",
    "        for X_batch, y_batch in shuffle_batch(X_train, y_train, batch_size):\n",
    "            sess.run([training_op, extra_update_ops], feed_dict={training: True, X: X_batch, y: y_batch})\n",
    "            \n",
    "        accuracy_val = accuracy.eval(feed_dict={X: X_valid, y: y_valid})\n",
    "        \n",
    "        print(epoch, \"Test accuracy:\", accuracy_val)\n",
    "        save_path = saver.save(sess, \"tmp/bn_model_final.ckpt\")"
   ]
  },
  {
   "cell_type": "markdown",
   "metadata": {},
   "source": [
    "### Reusing Pretrained Layers"
   ]
  },
  {
   "cell_type": "code",
   "execution_count": 43,
   "metadata": {},
   "outputs": [],
   "source": [
    "tf.reset_default_graph()\n",
    "\n",
    "saver = tf.train.import_meta_graph(\"tmp/mnist_model_final.ckpt.meta\")\n",
    "\n",
    "X = tf.get_default_graph().get_tensor_by_name(\"X:0\")\n",
    "y = tf.get_default_graph().get_tensor_by_name(\"y:0\")\n",
    "accuracy = tf.get_default_graph().get_tensor_by_name(\"eval/accuracy:0\")\n",
    "training_op = tf.get_default_graph().get_operation_by_name(\"train/GradientDescent\")"
   ]
  },
  {
   "cell_type": "code",
   "execution_count": 44,
   "metadata": {},
   "outputs": [],
   "source": [
    "for op in (X, y, accuracy, training_op):\n",
    "    tf.add_to_collection(\"important_ops\", op)\n",
    "    \n",
    "X, y, accuracy, training_op = tf.get_collection(\"important_ops\")    "
   ]
  },
  {
   "cell_type": "code",
   "execution_count": 45,
   "metadata": {},
   "outputs": [
    {
     "name": "stdout",
     "output_type": "stream",
     "text": [
      "INFO:tensorflow:Restoring parameters from tmp/mnist_model_final.ckpt\n"
     ]
    }
   ],
   "source": [
    "reuse_vars = tf.get_collection(tf.GraphKeys.GLOBAL_VARIABLES, scope=\"hidden[123]\")\n",
    "reuse_vars_dict = dict([(var.op.name, var) for var in reuse_vars])\n",
    "restore_saver = tf.train.Saver(reuse_vars_dict)\n",
    "\n",
    "init = tf.global_variables_initializer()\n",
    "saver = tf.train.Saver()\n",
    "\n",
    "with tf.Session() as sess:\n",
    "    init.run()\n",
    "    restore_saver.restore(sess, \"tmp/mnist_model_final.ckpt\")\n",
    "    save_path = saver.save(sess, \"tmp/hidden123_mnist_model_final.ckpt\")"
   ]
  },
  {
   "cell_type": "markdown",
   "metadata": {},
   "source": [
    "Freezing the Lower Layers: fetch selected vars to optimizer"
   ]
  },
  {
   "cell_type": "code",
   "execution_count": 46,
   "metadata": {},
   "outputs": [],
   "source": [
    "loss = tf.get_default_graph().get_tensor_by_name(\"loss/loss:0\")\n",
    "\n",
    "train_vars = tf.get_collection(tf.GraphKeys.TRAINABLE_VARIABLES, scope=\"hidden[34]|outputs\")\n",
    "training_op = optimizer.minimize(loss, var_list=train_vars)"
   ]
  },
  {
   "cell_type": "markdown",
   "metadata": {},
   "source": [
    "Freezing the Lower Layers: add \"stop gradient\""
   ]
  },
  {
   "cell_type": "code",
   "execution_count": 21,
   "metadata": {},
   "outputs": [],
   "source": [
    "tf.reset_default_graph()\n",
    "X = tf.placeholder(tf.float32, shape=(None, n_inputs), name=\"X\")\n",
    "y = tf.placeholder(tf.int32, shape=(None), name=\"y\")\n",
    "\n",
    "with tf.name_scope(\"dnn\"):\n",
    "    hidden1 = tf.layers.dense(X, n_hidden1, activation=tf.nn.relu, name=\"hidden1\")\n",
    "    hidden2 = tf.layers.dense(hidden1, n_hidden2, activation=tf.nn.relu, name=\"hidden2\")\n",
    "#     hidden2_stop = tf.stop_gradient(hidden2)\n",
    "    hidden3 = tf.layers.dense(hidden2, 50, activation=tf.nn.relu, name=\"hidden3\")\n",
    "    hidden4 = tf.layers.dense(hidden3, 25, activation=tf.nn.relu, name=\"hidden4\")\n",
    "    logits = tf.layers.dense(hidden4, n_outputs, name=\"outputs\")\n",
    "    \n",
    "with tf.name_scope(\"loss\"):\n",
    "    xentropy = tf.nn.sparse_softmax_cross_entropy_with_logits(labels=y, logits=logits)\n",
    "    loss = tf.reduce_mean(xentropy)\n",
    "    \n",
    "with tf.name_scope(\"train\"):\n",
    "    optimizer = tf.train.GradientDescentOptimizer(learning_rate)\n",
    "    training_op = optimizer.minimize(loss)    \n",
    "    \n",
    "saver = tf.train.Saver()    \n",
    "init = tf.global_variables_initializer()"
   ]
  },
  {
   "cell_type": "code",
   "execution_count": 24,
   "metadata": {},
   "outputs": [
    {
     "name": "stdout",
     "output_type": "stream",
     "text": [
      "Test loss: 0.3198201\n",
      "Test loss: 0.24075203\n",
      "Test loss: 0.19596633\n",
      "Test loss: 0.16589253\n",
      "Test loss: 0.1499387\n",
      "Test loss: 0.13555607\n",
      "Test loss: 0.12521482\n",
      "Test loss: 0.121826746\n",
      "Test loss: 0.12452241\n",
      "Test loss: 0.10719646\n"
     ]
    }
   ],
   "source": [
    "with tf.Session() as sess:\n",
    "    init.run()\n",
    "    \n",
    "    for epoch in range(n_epochs):\n",
    "        for X_batch, y_batch in shuffle_batch(X_train, y_train, batch_size):\n",
    "            sess.run(training_op, feed_dict={X:X_batch, y:y_batch})\n",
    "        \n",
    "        loss_test = sess.run(loss, feed_dict={X:X_test, y:y_test})\n",
    "        print(\"Epoch:\", epoch, \"Test loss:\", loss_test)\n",
    "    \n",
    "    save_path = saver.save(sess, \"tmp/layers_x4_mnist_model_final.ckpt\")"
   ]
  },
  {
   "cell_type": "markdown",
   "metadata": {},
   "source": [
    "Caching the Frozen Layers"
   ]
  },
  {
   "cell_type": "raw",
   "metadata": {},
   "source": [
    "# exporting saved graph to tensorboard\n",
    "tf.reset_default_graph()\n",
    "\n",
    "tf.train.import_meta_graph(\"tmp/mnist_model_final.ckpt.meta\")\n",
    "init = tf.global_variables_initializer()\n",
    "with tf.Session() as sess:\n",
    "    init.run()\n",
    "    tf.train.write_graph(tf.get_default_graph(), \"tf_logs\", \"restored-mnist\")"
   ]
  },
  {
   "cell_type": "raw",
   "metadata": {},
   "source": [
    "tf.reset_default_graph()\n",
    "\n",
    "tf.train.import_meta_graph(\"tmp/layers_x4_mnist_model_final.ckpt.meta\")\n",
    "tf.get_default_graph().get_operations()\n",
    "# tf.get_default_graph().get_tensor_by_name(\"train/GradientDescent/update_outputs/bias/ApplyGradientDescent:0\")"
   ]
  },
  {
   "cell_type": "code",
   "execution_count": 83,
   "metadata": {},
   "outputs": [
    {
     "name": "stdout",
     "output_type": "stream",
     "text": [
      "INFO:tensorflow:Restoring parameters from tmp/layers_x4_mnist_model_final.ckpt\n",
      "Epoch: 0 Test loss: 0.10686793\n",
      "Epoch: 1 Test loss: 0.10657914\n",
      "Epoch: 2 Test loss: 0.10632399\n",
      "Epoch: 3 Test loss: 0.10609763\n",
      "Epoch: 4 Test loss: 0.10589534\n",
      "Epoch: 5 Test loss: 0.105713986\n",
      "Epoch: 6 Test loss: 0.10555039\n",
      "Epoch: 7 Test loss: 0.105402514\n",
      "Epoch: 8 Test loss: 0.10526825\n",
      "Epoch: 9 Test loss: 0.10514573\n",
      "Epoch: 10 Test loss: 0.10503374\n",
      "Epoch: 11 Test loss: 0.10493043\n",
      "Epoch: 12 Test loss: 0.104835495\n",
      "Epoch: 13 Test loss: 0.104747646\n",
      "Epoch: 14 Test loss: 0.10466616\n",
      "Epoch: 15 Test loss: 0.1045906\n",
      "Epoch: 16 Test loss: 0.1045198\n",
      "Epoch: 17 Test loss: 0.10445415\n",
      "Epoch: 18 Test loss: 0.10439314\n",
      "Epoch: 19 Test loss: 0.10433577\n",
      "Epoch: 20 Test loss: 0.10428163\n",
      "Epoch: 21 Test loss: 0.1042312\n",
      "Epoch: 22 Test loss: 0.10418347\n",
      "Epoch: 23 Test loss: 0.10413814\n",
      "Epoch: 24 Test loss: 0.10409582\n",
      "Epoch: 25 Test loss: 0.10405599\n",
      "Epoch: 26 Test loss: 0.104018286\n",
      "Epoch: 27 Test loss: 0.10398276\n",
      "Epoch: 28 Test loss: 0.103948794\n",
      "Epoch: 29 Test loss: 0.10391723\n",
      "Epoch: 30 Test loss: 0.103887\n",
      "Epoch: 31 Test loss: 0.10385847\n",
      "Epoch: 32 Test loss: 0.10383115\n",
      "Epoch: 33 Test loss: 0.10380525\n",
      "Epoch: 34 Test loss: 0.10378086\n",
      "Epoch: 35 Test loss: 0.103757724\n",
      "Epoch: 36 Test loss: 0.10373596\n",
      "Epoch: 37 Test loss: 0.10371508\n",
      "Epoch: 38 Test loss: 0.10369573\n",
      "Epoch: 39 Test loss: 0.10367657\n",
      "Epoch: 40 Test loss: 0.10365829\n",
      "Epoch: 41 Test loss: 0.10364136\n",
      "Epoch: 42 Test loss: 0.103625305\n",
      "Epoch: 43 Test loss: 0.103609726\n",
      "Epoch: 44 Test loss: 0.10359525\n",
      "Epoch: 45 Test loss: 0.103580676\n",
      "Epoch: 46 Test loss: 0.10356766\n",
      "Epoch: 47 Test loss: 0.10355487\n",
      "Epoch: 48 Test loss: 0.10354289\n",
      "Epoch: 49 Test loss: 0.10353102\n",
      "Epoch: 50 Test loss: 0.103520095\n",
      "Epoch: 51 Test loss: 0.10350979\n",
      "Epoch: 52 Test loss: 0.103499316\n",
      "Epoch: 53 Test loss: 0.10348955\n",
      "Epoch: 54 Test loss: 0.103480615\n",
      "Epoch: 55 Test loss: 0.10347117\n",
      "Epoch: 56 Test loss: 0.10346323\n",
      "Epoch: 57 Test loss: 0.103455484\n",
      "Epoch: 58 Test loss: 0.10344756\n",
      "Epoch: 59 Test loss: 0.10344043\n",
      "Epoch: 60 Test loss: 0.10343325\n",
      "Epoch: 61 Test loss: 0.10342659\n",
      "Epoch: 62 Test loss: 0.103419535\n",
      "Epoch: 63 Test loss: 0.10341292\n",
      "Epoch: 64 Test loss: 0.1034066\n",
      "Epoch: 65 Test loss: 0.103400685\n",
      "Epoch: 66 Test loss: 0.10339502\n",
      "Epoch: 67 Test loss: 0.10338962\n",
      "Epoch: 68 Test loss: 0.103384435\n",
      "Epoch: 69 Test loss: 0.103379495\n",
      "Epoch: 70 Test loss: 0.10337451\n",
      "Epoch: 71 Test loss: 0.10337031\n",
      "Epoch: 72 Test loss: 0.10336675\n",
      "Epoch: 73 Test loss: 0.10336231\n",
      "Epoch: 74 Test loss: 0.103358254\n",
      "Epoch: 75 Test loss: 0.10335462\n",
      "Epoch: 76 Test loss: 0.10335051\n",
      "Epoch: 77 Test loss: 0.10334703\n",
      "Epoch: 78 Test loss: 0.103343725\n",
      "Epoch: 79 Test loss: 0.10334026\n",
      "Epoch: 80 Test loss: 0.103336826\n",
      "Epoch: 81 Test loss: 0.10333391\n",
      "Epoch: 82 Test loss: 0.103330776\n",
      "Epoch: 83 Test loss: 0.10332764\n",
      "Epoch: 84 Test loss: 0.10332522\n",
      "Epoch: 85 Test loss: 0.103322715\n",
      "Epoch: 86 Test loss: 0.103320114\n",
      "Epoch: 87 Test loss: 0.10331766\n",
      "Epoch: 88 Test loss: 0.103315525\n",
      "Epoch: 89 Test loss: 0.103312954\n",
      "Epoch: 90 Test loss: 0.103310764\n",
      "Epoch: 91 Test loss: 0.10330869\n",
      "Epoch: 92 Test loss: 0.103306435\n",
      "Epoch: 93 Test loss: 0.10330435\n",
      "Epoch: 94 Test loss: 0.10330233\n",
      "Epoch: 95 Test loss: 0.10330077\n",
      "Epoch: 96 Test loss: 0.103298984\n",
      "Epoch: 97 Test loss: 0.10329703\n",
      "Epoch: 98 Test loss: 0.10329512\n",
      "Epoch: 99 Test loss: 0.10329369\n"
     ]
    }
   ],
   "source": [
    "n_epochs = 100\n",
    "\n",
    "tf.reset_default_graph()\n",
    "tf.train.import_meta_graph(\"tmp/layers_x4_mnist_model_final.ckpt.meta\")\n",
    "\n",
    "restore_saver = tf.train.Saver()\n",
    "init = tf.global_variables_initializer()\n",
    "\n",
    "with tf.Session() as sess:\n",
    "    init.run()\n",
    "    restore_saver.restore(sess, \"tmp/layers_x4_mnist_model_final.ckpt\")\n",
    "    \n",
    "    hidden2 = tf.get_default_graph().get_tensor_by_name(\"dnn/hidden2/Relu:0\")\n",
    "    X = tf.get_default_graph().get_tensor_by_name(\"X:0\")\n",
    "    y = tf.get_default_graph().get_tensor_by_name(\"y:0\")\n",
    "    training_op = tf.get_default_graph().get_tensor_by_name(\"train/GradientDescent/update_outputs/bias/ApplyGradientDescent:0\")\n",
    "    loss = tf.get_default_graph().get_tensor_by_name(\"loss/Mean:0\")\n",
    "    \n",
    "    h2_cache = sess.run([hidden2], feed_dict={X: X_train})\n",
    "    \n",
    "    for epoch in range(n_epochs):\n",
    "        shuffled_idx = np.random.permutation(X_train.shape[0])\n",
    "        hidden2_batches = np.array_split(h2_cache[0][shuffled_idx], n_batches)\n",
    "        y_batches = np.array_split(y_train[shuffled_idx], n_batches)\n",
    "        for hidden2_batch, y_batch in zip(hidden2_batches, y_batches):\n",
    "            sess.run(training_op, feed_dict={hidden2:hidden2_batch, y:y_batch})\n",
    "            \n",
    "        loss_test = sess.run(loss, feed_dict={X:X_test, y:y_test})\n",
    "        print(\"Epoch:\", epoch, \"Test loss:\", loss_test)            \n",
    "            \n",
    "#     save_path = saver.save(sess, \"tmp/cached_mnist_model_final.ckpt\")\n",
    "    "
   ]
  },
  {
   "cell_type": "markdown",
   "metadata": {},
   "source": [
    "### Faster Optimizers"
   ]
  },
  {
   "cell_type": "code",
   "execution_count": 3,
   "metadata": {},
   "outputs": [],
   "source": [
    "optimizer = tf.train.MomentumOptimizer(learning_rate=learning_rate, momentum=0.9, use_nesterov=True)"
   ]
  },
  {
   "cell_type": "code",
   "execution_count": 3,
   "metadata": {},
   "outputs": [],
   "source": [
    "optimizer = tf.train.RMSPropOptimizer(learning_rate=learning_rate, momentum=0.9, decay=0.9, epsilon=1e-10)"
   ]
  },
  {
   "cell_type": "code",
   "execution_count": 11,
   "metadata": {},
   "outputs": [],
   "source": [
    "optimizer = tf.train.AdamOptimizer(learning_rate=learning_rate)"
   ]
  }
 ],
 "metadata": {
  "kernelspec": {
   "display_name": "Python 3",
   "language": "python",
   "name": "python3"
  },
  "language_info": {
   "codemirror_mode": {
    "name": "ipython",
    "version": 3
   },
   "file_extension": ".py",
   "mimetype": "text/x-python",
   "name": "python",
   "nbconvert_exporter": "python",
   "pygments_lexer": "ipython3",
   "version": "3.6.5"
  }
 },
 "nbformat": 4,
 "nbformat_minor": 2
}
