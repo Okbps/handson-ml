{
 "cells": [
  {
   "cell_type": "code",
   "execution_count": 177,
   "metadata": {},
   "outputs": [],
   "source": [
    "%matplotlib inline\n",
    "\n",
    "import tensorflow as tf\n",
    "import numpy as np\n",
    "import matplotlib.pyplot as plt\n",
    "\n",
    "from datetime import datetime\n",
    "from sklearn.datasets import fetch_california_housing, make_moons\n",
    "from sklearn.preprocessing import MinMaxScaler\n",
    "from sklearn.model_selection import train_test_split"
   ]
  },
  {
   "cell_type": "code",
   "execution_count": 6,
   "metadata": {},
   "outputs": [],
   "source": [
    "x = tf.Variable(3, name=\"x\")\n",
    "y = tf.Variable(4, name=\"y\")\n",
    "f = x*x*y + y + 2"
   ]
  },
  {
   "cell_type": "code",
   "execution_count": 7,
   "metadata": {},
   "outputs": [
    {
     "name": "stdout",
     "output_type": "stream",
     "text": [
      "42\n"
     ]
    }
   ],
   "source": [
    "sess = tf.Session()\n",
    "sess.run(x.initializer)\n",
    "sess.run(y.initializer)\n",
    "result = sess.run(f)\n",
    "print(result)\n",
    "sess.close()"
   ]
  },
  {
   "cell_type": "code",
   "execution_count": 8,
   "metadata": {},
   "outputs": [],
   "source": [
    "with tf.Session() as sess:\n",
    "    x.initializer.run()\n",
    "    y.initializer.run()\n",
    "    result = f.eval()"
   ]
  },
  {
   "cell_type": "code",
   "execution_count": 9,
   "metadata": {},
   "outputs": [],
   "source": [
    "init = tf.global_variables_initializer()\n",
    "\n",
    "with tf.Session() as sess:\n",
    "    init.run()\n",
    "    result = f.eval()"
   ]
  },
  {
   "cell_type": "code",
   "execution_count": 10,
   "metadata": {},
   "outputs": [
    {
     "name": "stdout",
     "output_type": "stream",
     "text": [
      "42\n"
     ]
    }
   ],
   "source": [
    "sess = tf.InteractiveSession()\n",
    "init.run()\n",
    "result = f.eval()\n",
    "print(result)\n",
    "sess.close()"
   ]
  },
  {
   "cell_type": "code",
   "execution_count": 11,
   "metadata": {},
   "outputs": [
    {
     "data": {
      "text/plain": [
       "True"
      ]
     },
     "execution_count": 11,
     "metadata": {},
     "output_type": "execute_result"
    }
   ],
   "source": [
    "x1 = tf.Variable(1)\n",
    "x1.graph is tf.get_default_graph()"
   ]
  },
  {
   "cell_type": "code",
   "execution_count": 12,
   "metadata": {},
   "outputs": [
    {
     "name": "stdout",
     "output_type": "stream",
     "text": [
      "True\n",
      "True\n"
     ]
    }
   ],
   "source": [
    "graph = tf.Graph()\n",
    "with graph.as_default():\n",
    "    x2 = tf.Variable(2)\n",
    "    print(x2.graph is graph)\n",
    "    print(x2.graph is tf.get_default_graph())\n",
    "    \n",
    "tf.reset_default_graph()"
   ]
  },
  {
   "cell_type": "code",
   "execution_count": 13,
   "metadata": {},
   "outputs": [
    {
     "name": "stdout",
     "output_type": "stream",
     "text": [
      "10\n",
      "15\n"
     ]
    }
   ],
   "source": [
    "w = tf.constant(3)\n",
    "x = w + 2\n",
    "y = x + 5\n",
    "z = x * 3\n",
    "\n",
    "with tf.Session() as sess:\n",
    "    print(y.eval())\n",
    "    print(z.eval())"
   ]
  },
  {
   "cell_type": "code",
   "execution_count": 14,
   "metadata": {},
   "outputs": [
    {
     "name": "stdout",
     "output_type": "stream",
     "text": [
      "10\n",
      "15\n"
     ]
    }
   ],
   "source": [
    "with tf.Session() as sess:\n",
    "    y_val, z_val = sess.run([y, z])\n",
    "    print(y_val)\n",
    "    print(z_val)"
   ]
  },
  {
   "cell_type": "markdown",
   "metadata": {},
   "source": [
    "### Linear Regression: Normal Equation"
   ]
  },
  {
   "cell_type": "code",
   "execution_count": 15,
   "metadata": {},
   "outputs": [],
   "source": [
    "housing = fetch_california_housing()\n",
    "m, n = housing.data.shape\n",
    "housing_data_plus_bias = np.c_[np.ones((m, 1)), housing.data]\n",
    "\n",
    "X = tf.constant(housing_data_plus_bias, dtype=tf.float32, name=\"X\")\n",
    "y = tf.constant(housing.target.reshape(-1, 1), dtype=tf.float32, name=\"y\")\n",
    "XT = tf.transpose(X)\n",
    "theta = tf.matmul(tf.matmul(tf.matrix_inverse(tf.matmul(XT, X)), XT), y)\n",
    "\n",
    "with tf.Session() as sess:\n",
    "    theta_value = theta.eval()"
   ]
  },
  {
   "cell_type": "markdown",
   "metadata": {},
   "source": [
    "### Linear Regression: Gradient Descent"
   ]
  },
  {
   "cell_type": "code",
   "execution_count": 16,
   "metadata": {},
   "outputs": [],
   "source": [
    "scaler = StandardScaler()\n",
    "scaled_housing_data_plus_bias = scaler.fit_transform(housing_data_plus_bias)"
   ]
  },
  {
   "cell_type": "code",
   "execution_count": 17,
   "metadata": {},
   "outputs": [
    {
     "name": "stdout",
     "output_type": "stream",
     "text": [
      "Epoch 0 MSE = 7.7685366\n",
      "Epoch 100 MSE = 4.813532\n",
      "Epoch 200 MSE = 4.8040013\n",
      "Epoch 300 MSE = 4.8033423\n",
      "Epoch 400 MSE = 4.8032656\n",
      "Epoch 500 MSE = 4.803255\n",
      "Epoch 600 MSE = 4.8032537\n",
      "Epoch 700 MSE = 4.8032537\n",
      "Epoch 800 MSE = 4.803254\n",
      "Epoch 900 MSE = 4.8032537\n"
     ]
    }
   ],
   "source": [
    "now = datetime.utcnow().strftime(\"%Y%m%d%H%M%S\")\n",
    "root_logdir = \"tf_logs\"\n",
    "logdir = \"{}/run-{}/\".format(root_logdir, now)\n",
    "\n",
    "n_epochs = 1000\n",
    "learning_rate = 0.01\n",
    "\n",
    "tf.reset_default_graph()\n",
    "\n",
    "X = tf.constant(scaled_housing_data_plus_bias, dtype=tf.float32, name=\"X\")\n",
    "y = tf.constant(housing.target.reshape(-1, 1), dtype=tf.float32, name=\"y\")\n",
    "theta = tf.Variable(tf.random_uniform([n+1, 1], -1.0, 1.0), name=\"theta\")\n",
    "y_pred = tf.matmul(X, theta, name=\"predictions\")\n",
    "\n",
    "with tf.name_scope(\"loss\") as scope:\n",
    "    error = tf.subtract(y_pred, y, name=\"subtr\")\n",
    "    mse = tf.reduce_mean(tf.square(error), name=\"mse\")\n",
    "    \n",
    "# gradients = 2/m * tf.matmul(tf.transpose(X), error)\n",
    "gradients = tf.gradients(mse, [theta])[0]\n",
    "# training_op = tf.assign(theta, theta - learning_rate * gradients)\n",
    "# optimizer = tf.train.GradientDescentOptimizer(learning_rate=learning_rate)\n",
    "optimizer = tf.train.MomentumOptimizer(learning_rate=learning_rate, momentum=0.9)\n",
    "training_op = optimizer.minimize(mse)\n",
    "\n",
    "init = tf.global_variables_initializer()\n",
    "# saver = tf.train.Saver()\n",
    "saver = tf.train.Saver({\"weights\": theta})\n",
    "\n",
    "mse_summary = tf.summary.scalar('MSE', mse)\n",
    "file_writer = tf.summary.FileWriter(logdir, tf.get_default_graph())\n",
    "\n",
    "with tf.Session() as sess:\n",
    "    sess.run(init)\n",
    "    \n",
    "    for epoch in range(n_epochs):\n",
    "        if epoch % 100 == 0:\n",
    "            print(\"Epoch\", epoch, \"MSE =\", mse.eval())\n",
    "            save_path = saver.save(sess, \"tmp/my_model.ckpt\")\n",
    "        \n",
    "        if epoch % 10 == 0:\n",
    "            summary_str = mse_summary.eval()\n",
    "            file_writer.add_summary(summary_str, epoch)\n",
    "            \n",
    "        sess.run(training_op)\n",
    "        \n",
    "    best_theta = theta.eval()    \n",
    "    save_path = saver.save(sess, \"tmp/my_model_final.ckpt\")\n",
    "    \n",
    "file_writer.close()"
   ]
  },
  {
   "cell_type": "code",
   "execution_count": 18,
   "metadata": {},
   "outputs": [
    {
     "name": "stdout",
     "output_type": "stream",
     "text": [
      "loss/subtr\n",
      "loss/mse\n"
     ]
    }
   ],
   "source": [
    "print(error.op.name)\n",
    "print(mse.op.name)"
   ]
  },
  {
   "cell_type": "markdown",
   "metadata": {},
   "source": [
    "### Restore graph and variables"
   ]
  },
  {
   "cell_type": "code",
   "execution_count": 19,
   "metadata": {},
   "outputs": [
    {
     "name": "stdout",
     "output_type": "stream",
     "text": [
      "INFO:tensorflow:Restoring parameters from tmp/my_model_final.ckpt\n"
     ]
    }
   ],
   "source": [
    "tf.reset_default_graph()\n",
    "saver = tf.train.import_meta_graph(\"tmp/my_model_final.ckpt.meta\")\n",
    "\n",
    "with tf.Session() as sess:\n",
    "    saver.restore(sess, \"tmp/my_model_final.ckpt\")"
   ]
  },
  {
   "cell_type": "markdown",
   "metadata": {},
   "source": [
    "### Mini-batch Gradient Descent"
   ]
  },
  {
   "cell_type": "code",
   "execution_count": 20,
   "metadata": {},
   "outputs": [
    {
     "name": "stdout",
     "output_type": "stream",
     "text": [
      "[[6. 7. 8.]]\n",
      "[[ 9. 10. 11.]\n",
      " [12. 13. 14.]]\n"
     ]
    }
   ],
   "source": [
    "A = tf.placeholder(tf.float32, shape=(None, 3))\n",
    "B = A + 5\n",
    "\n",
    "with tf.Session() as sess:\n",
    "    B_val_1 = B.eval(feed_dict={A:[[1, 2, 3]]})\n",
    "    B_val_2 = B.eval(feed_dict={A:[[4, 5, 6], [7, 8, 9]]})\n",
    "    \n",
    "print(B_val_1)\n",
    "print(B_val_2)"
   ]
  },
  {
   "cell_type": "code",
   "execution_count": 26,
   "metadata": {},
   "outputs": [],
   "source": [
    "tf.reset_default_graph()\n",
    "\n",
    "X = tf.placeholder(tf.float32, shape=(None, n+1), name=\"X\")\n",
    "y = tf.placeholder(tf.float32, shape=(None, 1), name=\"y\")\n",
    "theta = tf.Variable(tf.random_uniform([n+1, 1], -1.0, 1.0), name=\"theta\")\n",
    "y_pred = tf.matmul(X, theta, name=\"predictions\")\n",
    "\n",
    "with tf.name_scope(\"loss\") as scope:\n",
    "    error = tf.subtract(y_pred, y, name=\"subtr\")\n",
    "    mse = tf.reduce_mean(tf.square(error), name=\"mse\")\n",
    "    training_op = optimizer.minimize(mse)\n",
    "\n",
    "n_epochs = 10\n",
    "\n",
    "batch_size = 100\n",
    "n_batches = int(np.ceil(m/batch_size))\n",
    "\n",
    "init = tf.global_variables_initializer()\n",
    "\n",
    "def fetch_batch(epoch, batch_index, batch_size):\n",
    "    start = batch_index * batch_size\n",
    "    end = (batch_index+1) * batch_size\n",
    "    X_batch = scaled_housing_data_plus_bias[start:end]\n",
    "    y_batch = housing.target.reshape(-1, 1)[start:end]\n",
    "    return X_batch, y_batch\n",
    "\n",
    "with tf.Session() as sess:\n",
    "    sess.run(init)\n",
    "    \n",
    "    for epoch in range(n_epochs):\n",
    "#         if epoch % 1 == 0:\n",
    "#             print(\"Epoch\", epoch, \"MSE =\", mse.eval())\n",
    "            \n",
    "        for batch_index in range(n_batches):\n",
    "            X_batch, y_batch = fetch_batch(epoch, batch_index, batch_size)\n",
    "            sess.run(training_op, feed_dict={X: X_batch, y: y_batch})\n",
    "            \n",
    "    best_theta = theta.eval()"
   ]
  },
  {
   "cell_type": "code",
   "execution_count": 27,
   "metadata": {},
   "outputs": [
    {
     "data": {
      "text/plain": [
       "array([[-1.8894577e-01],\n",
       "       [-1.6921010e+07],\n",
       "       [ 7.4770295e+06],\n",
       "       [-1.4285365e+08],\n",
       "       [-1.2047077e+07],\n",
       "       [ 3.3885292e+07],\n",
       "       [ 5.7883872e+08],\n",
       "       [-3.4595604e+07],\n",
       "       [-3.1231138e+06]], dtype=float32)"
      ]
     },
     "execution_count": 27,
     "metadata": {},
     "output_type": "execute_result"
    }
   ],
   "source": [
    "best_theta"
   ]
  },
  {
   "cell_type": "markdown",
   "metadata": {},
   "source": [
    "### Modularity"
   ]
  },
  {
   "cell_type": "code",
   "execution_count": 28,
   "metadata": {},
   "outputs": [],
   "source": [
    "def relu(X):\n",
    "    with tf.name_scope(\"relu\"):\n",
    "        threshold = tf.get_variable(\"threshold\", shape=(), initializer=tf.constant_initializer(0.0))\n",
    "        \n",
    "        w_shape = (int(X.get_shape()[1]), 1)\n",
    "        w = tf.Variable(tf.random_normal(w_shape), name=\"weights\")\n",
    "        b = tf.Variable(0.0, name='bias')\n",
    "        z = tf.add(tf.matmul(X, w), b, name=\"z\")\n",
    "        return tf.maximum(z, threshold, name=\"relu\")\n",
    "\n",
    "tf.reset_default_graph()\n",
    "\n",
    "n_features = 3\n",
    "# X = tf.placeholder(tf.float32, shape=(None, n_features), name=\"X\")\n",
    "X = tf.constant(np.random.randn(1, 3), dtype=tf.float32)\n",
    "\n",
    "relus = []\n",
    "for relu_index in range(5):\n",
    "    with tf.variable_scope(\"relu\", reuse=(relu_index>0)) as scope:\n",
    "        relus.append(relu(X))\n",
    "    \n",
    "output = tf.add_n(relus, name=\"output\")\n",
    "summary_str = tf.summary.tensor_summary('output', output)\n",
    "\n",
    "init = tf.global_variables_initializer()\n",
    "\n",
    "file_writer = tf.summary.FileWriter(logdir, tf.get_default_graph())\n",
    "\n",
    "with tf.Session() as sess:\n",
    "    sess.run(init)\n",
    "    \n",
    "#     X_batch, y_batch = fetch_batch(epoch, batch_index, batch_size)\n",
    "#     file_writer.add_summary(summary_str.eval(feed_dict={X: X_batch[0:1, 0:3]}, session=sess))\n",
    "\n",
    "    file_writer.add_summary(summary_str.eval(session=sess))\n",
    "    \n",
    "file_writer.close()  "
   ]
  },
  {
   "cell_type": "code",
   "execution_count": 29,
   "metadata": {},
   "outputs": [
    {
     "data": {
      "text/plain": [
       "[<tf.Variable 'relu/threshold:0' shape=() dtype=float32_ref>,\n",
       " <tf.Variable 'relu/relu/weights:0' shape=(3, 1) dtype=float32_ref>,\n",
       " <tf.Variable 'relu/relu/bias:0' shape=() dtype=float32_ref>,\n",
       " <tf.Variable 'relu_1/relu/weights:0' shape=(3, 1) dtype=float32_ref>,\n",
       " <tf.Variable 'relu_1/relu/bias:0' shape=() dtype=float32_ref>,\n",
       " <tf.Variable 'relu_2/relu/weights:0' shape=(3, 1) dtype=float32_ref>,\n",
       " <tf.Variable 'relu_2/relu/bias:0' shape=() dtype=float32_ref>,\n",
       " <tf.Variable 'relu_3/relu/weights:0' shape=(3, 1) dtype=float32_ref>,\n",
       " <tf.Variable 'relu_3/relu/bias:0' shape=() dtype=float32_ref>,\n",
       " <tf.Variable 'relu_4/relu/weights:0' shape=(3, 1) dtype=float32_ref>,\n",
       " <tf.Variable 'relu_4/relu/bias:0' shape=() dtype=float32_ref>]"
      ]
     },
     "execution_count": 29,
     "metadata": {},
     "output_type": "execute_result"
    }
   ],
   "source": [
    "tf.get_collection(tf.GraphKeys.GLOBAL_VARIABLES, scope='relu')"
   ]
  },
  {
   "cell_type": "markdown",
   "metadata": {},
   "source": [
    "### Exercises"
   ]
  },
  {
   "cell_type": "code",
   "execution_count": 318,
   "metadata": {},
   "outputs": [],
   "source": [
    "def fetch_batch(epoch, batch_index, batch_size):\n",
    "    seed = batch_size + epoch * batch_index\n",
    "    inds = np.random.randint(0, m-1, batch_size)\n",
    "    \n",
    "    return X_full[inds], y_full_oh[inds]\n",
    "\n",
    "# m, m x k arrays\n",
    "def softmax(Theta, x):\n",
    "    S_exp = tf.exp(tf.matmul(x, Theta))\n",
    "    \n",
    "    return tf.divide(S_exp, tf.reduce_sum(S_exp, 1, keepdims=True))\n",
    "#     return S_exp\n",
    "\n",
    "# scalar\n",
    "def cross_entropy(y_true, p_pred, batch_size):\n",
    "    cost_1 = tf.matmul(y_true, tf.log(p_pred), True)\n",
    "    cost_2 = tf.matmul(1-y_true, tf.log(1-p_pred), True)\n",
    "    return -(cost_1 + cost_2)/batch_size\n",
    "#     return cost_1\n",
    "    \n",
    "#     return - tf.divide(tf.reduce_sum(y_log_h, axis=0), batch_size)\n",
    "#      return -tf.reduce_mean(tf.matmul(y_true, tf.log(p_pred), True), 1)\n",
    "\n",
    "# k x n arrays\n",
    "def get_gradients(error, X):\n",
    "    a = tf.matmul(X, error, True)\n",
    "    \n",
    "    return tf.divide(a, tf.to_float(tf.shape(X)[0]))\n",
    "\n",
    "# m x k arrays\n",
    "def y_to_prob(y):\n",
    "    prob = np.zeros((len(y), max(y)+1))\n",
    "    for m_, y_ in enumerate(y):\n",
    "        prob[m_, y_] = 1\n",
    "    return prob"
   ]
  },
  {
   "cell_type": "code",
   "execution_count": 315,
   "metadata": {},
   "outputs": [
    {
     "data": {
      "image/png": "[encoded data removed]",
      "text/plain": [
       "<Figure size 432x288 with 1 Axes>"
      ]
     },
     "metadata": {
      "needs_background": "light"
     },
     "output_type": "display_data"
    }
   ],
   "source": [
    "m = 1000\n",
    "n = 2\n",
    "\n",
    "X_full, y_full = make_moons(n_samples=m, noise = 0.2, random_state=42)\n",
    "\n",
    "scaler = MinMaxScaler()\n",
    "X_full = scaler.fit_transform(X_full)\n",
    "\n",
    "X_full = np.c_[X_full, np.ones(shape=(m))]\n",
    "y_full = y_full.reshape(-1, 1)\n",
    "y_full_oh = y_to_prob(y_full[:, 0])\n",
    "\n",
    "plt.scatter(X_full[y_full[:, 0]==0][:, 0], X_full[y_full[:, 0]==0][:, 1], c='r', label='0')\n",
    "plt.scatter(X_full[y_full[:, 0]==1][:, 0], X_full[y_full[:, 0]==1][:, 1], c='b', label='1')\n",
    "plt.legend(loc='best')\n",
    "plt.show()"
   ]
  },
  {
   "cell_type": "code",
   "execution_count": 337,
   "metadata": {},
   "outputs": [
    {
     "data": {
      "text/plain": [
       "'tf_logs/run-20180902084117/'"
      ]
     },
     "execution_count": 337,
     "metadata": {},
     "output_type": "execute_result"
    }
   ],
   "source": [
    "logdir"
   ]
  },
  {
   "cell_type": "code",
   "execution_count": 341,
   "metadata": {},
   "outputs": [
    {
     "name": "stdout",
     "output_type": "stream",
     "text": [
      "[[0.7174785  0.2825215 ]\n",
      " [0.18003349 0.81996655]\n",
      " [0.3403143  0.65968573]\n",
      " [0.22066681 0.77933323]\n",
      " [0.80616844 0.19383156]\n",
      " [0.32807818 0.67192185]\n",
      " [0.3379721  0.6620279 ]\n",
      " [0.7240183  0.27598175]\n",
      " [0.14485788 0.8551421 ]\n",
      " [0.7723649  0.22763506]]\n"
     ]
    }
   ],
   "source": [
    "tf.reset_default_graph()\n",
    "\n",
    "learning_rate = 0.01\n",
    "n_epochs = 100\n",
    "batch_size = 50\n",
    "n_batches = int(np.ceil(m/batch_size))\n",
    "\n",
    "X = tf.placeholder(tf.float32, shape=(None, n+1), name=\"X\")\n",
    "y = tf.placeholder(tf.float32, shape=(None, 2), name=\"y\")\n",
    "theta = tf.Variable(tf.random_uniform([n+1, 2], -1.0, 1.0), name=\"theta\")\n",
    "y_pred = softmax(theta, X)\n",
    "\n",
    "# ce = cross_entropy(y, y_pred, batch_size)\n",
    "\n",
    "ce = tf.losses.softmax_cross_entropy(y, y_pred)\n",
    "\n",
    "error = tf.subtract(y_pred, y, \"error\")\n",
    "\n",
    "# gradients = tf.gradients(tf.subtract(y, y_pred), [theta])[0]\n",
    "gradients = get_gradients(error, X)\n",
    "theta_new = tf.subtract(theta, tf.scalar_mul(learning_rate, gradients))\n",
    "training_op = tf.assign(theta, theta_new)\n",
    "\n",
    "# optimizer = tf.train.GradientDescentOptimizer(learning_rate=learning_rate)\n",
    "# training_op = optimizer.minimize(error)\n",
    "\n",
    "init = tf.global_variables_initializer()\n",
    "\n",
    "ce_summary = tf.summary.scalar('cross-entropy', ce)\n",
    "file_writer = tf.summary.FileWriter(logdir, tf.get_default_graph())\n",
    "\n",
    "with tf.Session() as sess:\n",
    "    sess.run(init)\n",
    "    \n",
    "    for epoch in range(n_epochs):\n",
    "        for batch_index in range(batch_size):\n",
    "            X_batch, y_batch = fetch_batch(epoch, batch_index, batch_size)\n",
    "#             y_pred_ = y_pred.eval(feed_dict={X: X_batch})\n",
    "#             error_ce = ce.eval(feed_dict={X: X_batch, y: y_batch})\n",
    "            if batch_index==batch_size-1:\n",
    "                summary_str = ce_summary.eval(feed_dict={X: X_batch, y: y_batch}) \n",
    "                file_writer.add_summary(summary_str, epoch)\n",
    "#             training_op.eval(feed_dict={X: X_batch, y: y_batch})\n",
    "            sess.run(training_op, feed_dict={X: X_batch, y: y_batch})\n",
    "#             error_ = error.eval(feed_dict={X: X_batch, y: y_batch})\n",
    "#             print(error_)\n",
    "\n",
    "    file_writer.close()    \n",
    "        \n",
    "#     print(sess.run(\n",
    "#         tf.slice(tf.matmul(tf.cast(X_full, tf.float32), theta), [0, 0], [10, 2])))\n",
    "    print(sess.run(y_pred, feed_dict={X: X_full[:10]}))"
   ]
  }
 ],
 "metadata": {
  "kernelspec": {
   "display_name": "Python 3",
   "language": "python",
   "name": "python3"
  },
  "language_info": {
   "codemirror_mode": {
    "name": "ipython",
    "version": 3
   },
   "file_extension": ".py",
   "mimetype": "text/x-python",
   "name": "python",
   "nbconvert_exporter": "python",
   "pygments_lexer": "ipython3",
   "version": "3.6.5"
  },
  "varInspector": {
   "cols": {
    "lenName": 16,
    "lenType": 16,
    "lenVar": 40
   },
   "kernels_config": {
    "python": {
     "delete_cmd_postfix": "",
     "delete_cmd_prefix": "del ",
     "library": "var_list.py",
     "varRefreshCmd": "print(var_dic_list())"
    },
    "r": {
     "delete_cmd_postfix": ") ",
     "delete_cmd_prefix": "rm(",
     "library": "var_list.r",
     "varRefreshCmd": "cat(var_dic_list()) "
    }
   },
   "types_to_exclude": [
    "module",
    "function",
    "builtin_function_or_method",
    "instance",
    "_Feature"
   ],
   "window_display": false
  }
 },
 "nbformat": 4,
 "nbformat_minor": 2
}
